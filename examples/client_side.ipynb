{
 "cells": [
  {
   "cell_type": "code",
   "execution_count": 1,
   "id": "db0639ef-1f82-4ec5-8c49-063294845be7",
   "metadata": {},
   "outputs": [
    {
     "name": "stdout",
     "output_type": "stream",
     "text": [
      "/workspace\n"
     ]
    },
    {
     "name": "stderr",
     "output_type": "stream",
     "text": [
      "/usr/local/lib/python3.11/dist-packages/IPython/core/magics/osm.py:417: UserWarning: This is now an optional IPython functionality, setting dhist requires you to install the `pickleshare` library.\n",
      "  self.shell.db['dhist'] = compress_dhist(dhist)[-100:]\n"
     ]
    }
   ],
   "source": [
    "%cd /workspace/"
   ]
  },
  {
   "cell_type": "code",
   "execution_count": 2,
   "id": "98d17744-616d-4449-8165-7f9e0369f09f",
   "metadata": {},
   "outputs": [],
   "source": [
    "from hivemind import DHT, get_dht_time\n",
    "from hivemind.p2p import PeerID\n",
    "import hivemind\n",
    "\n",
    "import time\n",
    "\n",
    "from p2p_module_calling.client.client import Client\n",
    "\n",
    "import torch"
   ]
  },
  {
   "cell_type": "code",
   "execution_count": null,
   "id": "f807b824-44cb-4f63-b91b-8c65e541b0ca",
   "metadata": {},
   "outputs": [
    {
     "data": {
      "text/plain": [
       "<libp2p.peer.id.ID (12D3KooWBT31kC944QhkzMdUJZWo2FQZNSfWB2ZB9kfhVqHiydtd)>"
      ]
     },
     "execution_count": 3,
     "metadata": {},
     "output_type": "execute_result"
    }
   ],
   "source": [
    "\n",
    "\n",
    "peers =  [\n",
    "    # IPv4 DNS addresses\n",
    "    \"/ip4/159.89.214.152/tcp/31337/p2p/QmedTaZXmULqwspJXz44SsPZyTNKxhnnFvYRajfH7MGhCY\"\n",
    "]\n",
    "\n",
    "table = DHT(\n",
    "    host_maddrs=[\"/ip4/0.0.0.0/tcp/0\", \"/ip4/0.0.0.0/udp/0/quic\"],\n",
    "    initial_peers=peers,\n",
    "    start=True,\n",
    "    use_relay=True,\n",
    "    use_auto_relay=True\n",
    ")\n",
    "\n",
    "p2p = await table.replicate_p2p()\n",
    "\n",
    "\n",
    "peer_id_bytes = table.get(\"drime_peers\").value\n",
    "peer = PeerID(peer_id_bytes)\n",
    "peer"
   ]
  },
  {
   "cell_type": "code",
   "execution_count": 4,
   "id": "6f605c09-5a33-4988-a1af-7fe4430e1f53",
   "metadata": {},
   "outputs": [],
   "source": [
    "client  = Client(p2p,peer)"
   ]
  },
  {
   "cell_type": "code",
   "execution_count": null,
   "id": "c780bccb-b062-4c9b-9f8f-9853e4a4b87a",
   "metadata": {},
   "outputs": [
    {
     "data": {
      "text/plain": [
       "{'poo': tensor([1., 1., 1.])}"
      ]
     },
     "execution_count": 5,
     "metadata": {},
     "output_type": "execute_result"
    }
   ],
   "source": [
    "await client.forward(\"model\",{\"x\":torch.randn(3,10)})"
   ]
  },
  {
   "cell_type": "code",
   "execution_count": 6,
   "id": "a37f4a96-856a-4776-b0a5-7a18a59d3d0d",
   "metadata": {},
   "outputs": [
    {
     "data": {
      "text/plain": [
       "[PeerInfo(peer_id=<libp2p.peer.id.ID (QmQGTqmM7NKjV6ggU1ZCap8zWiyKR89RViDXiqehSiCpY5)>, addrs=[<Multiaddr /ip4/24.144.96.147/tcp/31338>]),\n",
       " PeerInfo(peer_id=<libp2p.peer.id.ID (12D3KooWBT31kC944QhkzMdUJZWo2FQZNSfWB2ZB9kfhVqHiydtd)>, addrs=[<Multiaddr /ip4/159.89.214.152/tcp/31337/p2p/QmedTaZXmULqwspJXz44SsPZyTNKxhnnFvYRajfH7MGhCY/p2p-circuit>]),\n",
       " PeerInfo(peer_id=<libp2p.peer.id.ID (12D3KooWSRnjJaX2c85jDPuSnW3b93gv4W9mJjersKUebZqee2km)>, addrs=[<Multiaddr /ip4/176.99.131.176/tcp/46237>]),\n",
       " PeerInfo(peer_id=<libp2p.peer.id.ID (QmedTaZXmULqwspJXz44SsPZyTNKxhnnFvYRajfH7MGhCY)>, addrs=[<Multiaddr /ip4/159.89.214.152/tcp/31337>]),\n",
       " PeerInfo(peer_id=<libp2p.peer.id.ID (12D3KooWG35HByAh4BFLYEqzfKnrqjKYDSNFWwZSiDJjbmEWTFJu)>, addrs=[<Multiaddr /ip4/193.106.95.184/tcp/46563>])]"
      ]
     },
     "execution_count": 6,
     "metadata": {},
     "output_type": "execute_result"
    }
   ],
   "source": [
    "await p2p.list_peers()"
   ]
  }
 ],
 "metadata": {
  "kernelspec": {
   "display_name": "Python 3 (ipykernel)",
   "language": "python",
   "name": "python3"
  },
  "language_info": {
   "codemirror_mode": {
    "name": "ipython",
    "version": 3
   },
   "file_extension": ".py",
   "mimetype": "text/x-python",
   "name": "python",
   "nbconvert_exporter": "python",
   "pygments_lexer": "ipython3",
   "version": "3.11.10"
  }
 },
 "nbformat": 4,
 "nbformat_minor": 5
}
